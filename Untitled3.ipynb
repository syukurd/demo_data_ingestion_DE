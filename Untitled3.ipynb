{
  "nbformat": 4,
  "nbformat_minor": 0,
  "metadata": {
    "colab": {
      "name": "Untitled3.ipynb",
      "provenance": []
    },
    "kernelspec": {
      "name": "python3",
      "display_name": "Python 3"
    },
    "language_info": {
      "name": "python"
    }
  },
  "cells": [
    {
      "cell_type": "markdown",
      "source": [
        "# Cursor -> fungsinya supaya dapat menjalankan query\n"
      ],
      "metadata": {
        "id": "YUKloQ-m_4CD"
      }
    },
    {
      "cell_type": "code",
      "source": [
        "\n",
        "import psycopg2"
      ],
      "metadata": {
        "id": "WmPMfkZP--_r"
      },
      "execution_count": 19,
      "outputs": []
    },
    {
      "cell_type": "code",
      "source": [
        "conn = psycopg2.connect(host='digitalskola7-do-user-7592846-0.b.db.ondigitalocean.com', dbname='deadpool', user='doadmin', password='AVNS_TDrSDUoeoSNF5rVVSLx', port='25061')\n"
      ],
      "metadata": {
        "id": "g_-eN1b4_JJw"
      },
      "execution_count": 20,
      "outputs": []
    },
    {
      "cell_type": "code",
      "source": [
        "cur = conn.cursor()\n"
      ],
      "metadata": {
        "id": "v8vVdrm3_atv"
      },
      "execution_count": 21,
      "outputs": []
    },
    {
      "cell_type": "code",
      "source": [
        "csv_file = open('syukur_products.csv','w')\n"
      ],
      "metadata": {
        "id": "fNRIEIroAQDQ"
      },
      "execution_count": 22,
      "outputs": []
    },
    {
      "cell_type": "code",
      "source": [
        "sql = 'COPY (select * from products) TO STDOUT WITH CSV HEADER'\n",
        "\n"
      ],
      "metadata": {
        "id": "wmtv1_S2ApcX"
      },
      "execution_count": 23,
      "outputs": []
    },
    {
      "cell_type": "code",
      "source": [
        "cur.copy_expert(sql,csv_file)\n"
      ],
      "metadata": {
        "id": "M7H5GrnMA2gb"
      },
      "execution_count": 24,
      "outputs": []
    },
    {
      "cell_type": "code",
      "source": [
        "csv_file.close()\n"
      ],
      "metadata": {
        "id": "Sync0QJ7A9yA"
      },
      "execution_count": 10,
      "outputs": []
    },
    {
      "cell_type": "code",
      "source": [
        "cur.close"
      ],
      "metadata": {
        "colab": {
          "base_uri": "https://localhost:8080/"
        },
        "id": "EFaRJaClCUpL",
        "outputId": "963bf330-d658-4440-d587-080332faf8f0"
      },
      "execution_count": 13,
      "outputs": [
        {
          "output_type": "execute_result",
          "data": {
            "text/plain": [
              "<function cursor.close>"
            ]
          },
          "metadata": {},
          "execution_count": 13
        }
      ]
    },
    {
      "cell_type": "code",
      "source": [
        "conn.close"
      ],
      "metadata": {
        "colab": {
          "base_uri": "https://localhost:8080/"
        },
        "id": "H8VpZJ2WCcAV",
        "outputId": "d10c2bfc-0a50-48ac-8c21-4b6e49fc5185"
      },
      "execution_count": 18,
      "outputs": [
        {
          "output_type": "execute_result",
          "data": {
            "text/plain": [
              "<function connection.close>"
            ]
          },
          "metadata": {},
          "execution_count": 18
        }
      ]
    },
    {
      "cell_type": "markdown",
      "source": [
        ""
      ],
      "metadata": {
        "id": "EHO1wwS8Az-c"
      }
    }
  ]
}